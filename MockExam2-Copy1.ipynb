{
 "cells": [
  {
   "cell_type": "markdown",
   "id": "resistant-riding",
   "metadata": {
    "deletable": false,
    "editable": false,
    "nbgrader": {
     "cell_type": "markdown",
     "checksum": "b9ce270d6d3b308a0a4803f8cc03638f",
     "grade": false,
     "grade_id": "cell-14bc8bc2e3f3b50b",
     "locked": true,
     "schema_version": 3,
     "solution": false
    },
    "run_control": {
     "frozen": true
    }
   },
   "source": [
    "---\n",
    "Stellen Sie bitte sicher, dass alles wie vorhergesehen läuft, bevor Sie dieses Übungsblatt abgeben. **Starten Sie den Kernel neu** (in der Menüleiste die Option Kernel$\\rightarrow$Restart auswählen) und **validieren** Sie anschließend das Übungsblatt (in der Menüleiste auf Validate klicken) um Rückmeldung zu eventuellen fehlenden oder fehlerhaften Eingaben zu erhalten. \n",
    "\n",
    "Füllen Sie alle Stellen im Übungsblatt aus, welche entweder `DEIN CODE HIER` oder \"DEINE ANTWORT HIER\" enthalten. Geben Sie unterhalb Ihren vollständigen Namen an.\n",
    "\n",
    "Wenn Sie Code-Bestandteile aus anderen Quellen (wie z.B. Stackoverflow) kopieren, dann machen sie den kopierten Code in ihrer Quellcodedatei kenntlich und fügen eine Referenz auf die Quelle als Kommentar hinzu.\n",
    "\n",
    "Wenn Sie die Aufgaben in einer Gruppe erledigen, dann fügen Sie die Namen aller Gruppenmitglieder in der nachfolgende Zelle zu `Name` und zusätzlich als Kommentar am Anfang Ihrer Quellcodedatei hinzu."
   ]
  },
  {
   "cell_type": "markdown",
   "id": "reduced-writing",
   "metadata": {
    "deletable": false,
    "editable": false,
    "nbgrader": {
     "cell_type": "markdown",
     "checksum": "008460e9429099ecfb93dcd32bf095e8",
     "grade": false,
     "grade_id": "cell-8ae8fd1bec813ca4",
     "locked": true,
     "schema_version": 3,
     "solution": false
    },
    "run_control": {
     "frozen": true
    }
   },
   "source": [
    "---"
   ]
  },
  {
   "cell_type": "code",
   "execution_count": 1,
   "id": "fundamental-agent",
   "metadata": {},
   "outputs": [],
   "source": [
    "NAME = \"Biswas kc test\""
   ]
  },
  {
   "cell_type": "markdown",
   "id": "simplified-employment",
   "metadata": {
    "deletable": false,
    "editable": false,
    "nbgrader": {
     "cell_type": "markdown",
     "checksum": "c192b9832dd6a90237eec99f9da76301",
     "grade": false,
     "grade_id": "cell-4f279d8aadb7cf1a",
     "locked": true,
     "schema_version": 3,
     "solution": false
    },
    "run_control": {
     "frozen": true
    }
   },
   "source": [
    "---"
   ]
  },
  {
   "cell_type": "code",
   "execution_count": 2,
   "id": "9d9e73f0",
   "metadata": {
    "deletable": false,
    "editable": false,
    "nbgrader": {
     "cell_type": "code",
     "checksum": "21e578d42a9d34a6f5516f4921437e0e",
     "grade": false,
     "grade_id": "cell-6af9a14a9bc63bc2",
     "locked": true,
     "schema_version": 3,
     "solution": false,
     "task": false
    }
   },
   "outputs": [],
   "source": [
    "import numpy as np\n",
    "import matplotlib.pyplot as plt\n",
    "import pandas as pd\n",
    "from time import time\n",
    "from sklearn import metrics"
   ]
  },
  {
   "cell_type": "markdown",
   "id": "fiscal-publisher",
   "metadata": {
    "deletable": false,
    "editable": false,
    "nbgrader": {
     "cell_type": "markdown",
     "checksum": "d0791d3d4800ec510b29d5bd7da11b4b",
     "grade": false,
     "grade_id": "cell-1ccfe26bc5690e33",
     "locked": true,
     "schema_version": 3,
     "solution": false,
     "task": false
    }
   },
   "source": [
    "# Task 1 – Multivariate Linear Regression (10 points)\n",
    "\n",
    "In this task, a multivariate linear regression should be implemented. For this, the **Wine Quality** dataset will be used. This dataset contains chemical and sensory properties of red and white wines. Each record includes **11 numerical features**, such as pH value, alcohol content, etc.\n",
    "\n",
    "The **goal of the regression** is to predict the **wine quality** (`quality`). This is given as an integer value from **0 to 10** and is based on sensory evaluation by experts.\n",
    "\n",
    "### Assignment\n",
    "\n",
    "* **Part 1:** Multivariate linear regression with scikit-learn (6 points)\n",
    "* **Part 2:** Regularization with scikit-learn (4 points)\n",
    "\n",
    "<br>\n",
    "<br>\n",
    "First, the dataset is loaded, and an overview of the features and their statistics is displayed.\n"
   ]
  },
  {
   "cell_type": "markdown",
   "id": "a25b70eb",
   "metadata": {
    "deletable": false,
    "editable": false,
    "nbgrader": {
     "cell_type": "markdown",
     "checksum": "65be5b214ca71a8096d13976b0da6c85",
     "grade": false,
     "grade_id": "cell-f0ca2279b60a1144",
     "locked": true,
     "schema_version": 3,
     "solution": false,
     "task": false
    }
   },
   "source": [
    "# Good Luck with the MockExamv2\n",
    "\n",
    "The mock exam does **not** reflect the actual exam 1:1 in terms of scope or complexity. It is intended to give you an idea of how an exam is structured and what type of tasks you can expect.\n",
    "\n",
    "### Points\n",
    "- __Task 1:__ 10 Points (Linear and Polynomial Regression)\n",
    "- __Task 2:__ 10 Points (Logistic Regression)\n",
    "- __Task 3:__ 10 Points (Decision Trees)\n",
    "- __Task 4:__ 10 Points (Support Vector Machines)\n",
    "- __Task 5:__ 10 Points (Neural Networks)\n",
    "\n",
    "**Total: 50 Points, but you only need 30 to get a 100% score**\n",
    "\n",
    "### General Notes\n",
    "\n",
    "- All materials (slides, scripts) are allowed, including your own solutions to the exercises.\n",
    "- Communication with other students and/or AIs (ChatGPT & Co.) is strictly prohibited in any form and will result in a failing grade.\n",
    "- Read the task thoroughly and completely before starting your work.\n",
    "- Grading is based on the functionality of your solution on JupyterHub.\n",
    "- Comment your code if suitable.\n"
   ]
  },
  {
   "cell_type": "code",
   "execution_count": 3,
   "id": "junior-ghana",
   "metadata": {
    "deletable": false,
    "editable": false,
    "nbgrader": {
     "cell_type": "code",
     "checksum": "f68b587edf7267dc3238ee3ac1b21424",
     "grade": false,
     "grade_id": "cell-23e9b334fb76ea5e",
     "locked": true,
     "schema_version": 3,
     "solution": false,
     "task": false
    }
   },
   "outputs": [
    {
     "name": "stdout",
     "output_type": "stream",
     "text": [
      "shape: (1599, 12)\n"
     ]
    },
    {
     "data": {
      "text/html": [
       "<div>\n",
       "<style scoped>\n",
       "    .dataframe tbody tr th:only-of-type {\n",
       "        vertical-align: middle;\n",
       "    }\n",
       "\n",
       "    .dataframe tbody tr th {\n",
       "        vertical-align: top;\n",
       "    }\n",
       "\n",
       "    .dataframe thead th {\n",
       "        text-align: right;\n",
       "    }\n",
       "</style>\n",
       "<table border=\"1\" class=\"dataframe\">\n",
       "  <thead>\n",
       "    <tr style=\"text-align: right;\">\n",
       "      <th></th>\n",
       "      <th>fixed acidity</th>\n",
       "      <th>volatile acidity</th>\n",
       "      <th>citric acid</th>\n",
       "      <th>residual sugar</th>\n",
       "      <th>chlorides</th>\n",
       "      <th>free sulfur dioxide</th>\n",
       "      <th>total sulfur dioxide</th>\n",
       "      <th>density</th>\n",
       "      <th>pH</th>\n",
       "      <th>sulphates</th>\n",
       "      <th>alcohol</th>\n",
       "      <th>quality</th>\n",
       "    </tr>\n",
       "  </thead>\n",
       "  <tbody>\n",
       "    <tr>\n",
       "      <th>count</th>\n",
       "      <td>1599.000000</td>\n",
       "      <td>1599.000000</td>\n",
       "      <td>1599.000000</td>\n",
       "      <td>1599.000000</td>\n",
       "      <td>1599.000000</td>\n",
       "      <td>1599.000000</td>\n",
       "      <td>1599.000000</td>\n",
       "      <td>1599.000000</td>\n",
       "      <td>1599.000000</td>\n",
       "      <td>1599.000000</td>\n",
       "      <td>1599.000000</td>\n",
       "      <td>1599.000000</td>\n",
       "    </tr>\n",
       "    <tr>\n",
       "      <th>mean</th>\n",
       "      <td>8.319637</td>\n",
       "      <td>0.527821</td>\n",
       "      <td>0.270976</td>\n",
       "      <td>2.538806</td>\n",
       "      <td>0.087467</td>\n",
       "      <td>15.874922</td>\n",
       "      <td>46.467792</td>\n",
       "      <td>0.996747</td>\n",
       "      <td>3.311113</td>\n",
       "      <td>0.658149</td>\n",
       "      <td>10.422983</td>\n",
       "      <td>5.636023</td>\n",
       "    </tr>\n",
       "    <tr>\n",
       "      <th>std</th>\n",
       "      <td>1.741096</td>\n",
       "      <td>0.179060</td>\n",
       "      <td>0.194801</td>\n",
       "      <td>1.409928</td>\n",
       "      <td>0.047065</td>\n",
       "      <td>10.460157</td>\n",
       "      <td>32.895324</td>\n",
       "      <td>0.001887</td>\n",
       "      <td>0.154386</td>\n",
       "      <td>0.169507</td>\n",
       "      <td>1.065668</td>\n",
       "      <td>0.807569</td>\n",
       "    </tr>\n",
       "    <tr>\n",
       "      <th>min</th>\n",
       "      <td>4.600000</td>\n",
       "      <td>0.120000</td>\n",
       "      <td>0.000000</td>\n",
       "      <td>0.900000</td>\n",
       "      <td>0.012000</td>\n",
       "      <td>1.000000</td>\n",
       "      <td>6.000000</td>\n",
       "      <td>0.990070</td>\n",
       "      <td>2.740000</td>\n",
       "      <td>0.330000</td>\n",
       "      <td>8.400000</td>\n",
       "      <td>3.000000</td>\n",
       "    </tr>\n",
       "    <tr>\n",
       "      <th>25%</th>\n",
       "      <td>7.100000</td>\n",
       "      <td>0.390000</td>\n",
       "      <td>0.090000</td>\n",
       "      <td>1.900000</td>\n",
       "      <td>0.070000</td>\n",
       "      <td>7.000000</td>\n",
       "      <td>22.000000</td>\n",
       "      <td>0.995600</td>\n",
       "      <td>3.210000</td>\n",
       "      <td>0.550000</td>\n",
       "      <td>9.500000</td>\n",
       "      <td>5.000000</td>\n",
       "    </tr>\n",
       "    <tr>\n",
       "      <th>50%</th>\n",
       "      <td>7.900000</td>\n",
       "      <td>0.520000</td>\n",
       "      <td>0.260000</td>\n",
       "      <td>2.200000</td>\n",
       "      <td>0.079000</td>\n",
       "      <td>14.000000</td>\n",
       "      <td>38.000000</td>\n",
       "      <td>0.996750</td>\n",
       "      <td>3.310000</td>\n",
       "      <td>0.620000</td>\n",
       "      <td>10.200000</td>\n",
       "      <td>6.000000</td>\n",
       "    </tr>\n",
       "    <tr>\n",
       "      <th>75%</th>\n",
       "      <td>9.200000</td>\n",
       "      <td>0.640000</td>\n",
       "      <td>0.420000</td>\n",
       "      <td>2.600000</td>\n",
       "      <td>0.090000</td>\n",
       "      <td>21.000000</td>\n",
       "      <td>62.000000</td>\n",
       "      <td>0.997835</td>\n",
       "      <td>3.400000</td>\n",
       "      <td>0.730000</td>\n",
       "      <td>11.100000</td>\n",
       "      <td>6.000000</td>\n",
       "    </tr>\n",
       "    <tr>\n",
       "      <th>max</th>\n",
       "      <td>15.900000</td>\n",
       "      <td>1.580000</td>\n",
       "      <td>1.000000</td>\n",
       "      <td>15.500000</td>\n",
       "      <td>0.611000</td>\n",
       "      <td>72.000000</td>\n",
       "      <td>289.000000</td>\n",
       "      <td>1.003690</td>\n",
       "      <td>4.010000</td>\n",
       "      <td>2.000000</td>\n",
       "      <td>14.900000</td>\n",
       "      <td>8.000000</td>\n",
       "    </tr>\n",
       "  </tbody>\n",
       "</table>\n",
       "</div>"
      ],
      "text/plain": [
       "       fixed acidity  volatile acidity  citric acid  residual sugar  \\\n",
       "count    1599.000000       1599.000000  1599.000000     1599.000000   \n",
       "mean        8.319637          0.527821     0.270976        2.538806   \n",
       "std         1.741096          0.179060     0.194801        1.409928   \n",
       "min         4.600000          0.120000     0.000000        0.900000   \n",
       "25%         7.100000          0.390000     0.090000        1.900000   \n",
       "50%         7.900000          0.520000     0.260000        2.200000   \n",
       "75%         9.200000          0.640000     0.420000        2.600000   \n",
       "max        15.900000          1.580000     1.000000       15.500000   \n",
       "\n",
       "         chlorides  free sulfur dioxide  total sulfur dioxide      density  \\\n",
       "count  1599.000000          1599.000000           1599.000000  1599.000000   \n",
       "mean      0.087467            15.874922             46.467792     0.996747   \n",
       "std       0.047065            10.460157             32.895324     0.001887   \n",
       "min       0.012000             1.000000              6.000000     0.990070   \n",
       "25%       0.070000             7.000000             22.000000     0.995600   \n",
       "50%       0.079000            14.000000             38.000000     0.996750   \n",
       "75%       0.090000            21.000000             62.000000     0.997835   \n",
       "max       0.611000            72.000000            289.000000     1.003690   \n",
       "\n",
       "                pH    sulphates      alcohol      quality  \n",
       "count  1599.000000  1599.000000  1599.000000  1599.000000  \n",
       "mean      3.311113     0.658149    10.422983     5.636023  \n",
       "std       0.154386     0.169507     1.065668     0.807569  \n",
       "min       2.740000     0.330000     8.400000     3.000000  \n",
       "25%       3.210000     0.550000     9.500000     5.000000  \n",
       "50%       3.310000     0.620000    10.200000     6.000000  \n",
       "75%       3.400000     0.730000    11.100000     6.000000  \n",
       "max       4.010000     2.000000    14.900000     8.000000  "
      ]
     },
     "execution_count": 3,
     "metadata": {},
     "output_type": "execute_result"
    }
   ],
   "source": [
    "dataset = pd.read_csv('winequality.csv')\n",
    "print(f\"shape: {dataset.shape}\")\n",
    "dataset.describe()"
   ]
  },
  {
   "cell_type": "code",
   "execution_count": 4,
   "id": "national-prairie",
   "metadata": {
    "deletable": false,
    "editable": false,
    "nbgrader": {
     "cell_type": "code",
     "checksum": "349335beb2e7695d4103639a52fce463",
     "grade": false,
     "grade_id": "cell-524c3afb1779ba63",
     "locked": true,
     "schema_version": 3,
     "solution": false,
     "task": false
    }
   },
   "outputs": [],
   "source": [
    "from sklearn.model_selection import train_test_split\n",
    "\n",
    "x = dataset.drop('quality', axis=1)\n",
    "y = dataset['quality']\n",
    "\n",
    "x_train, x_test, y_train, y_test = train_test_split(x, y, test_size=0.2, random_state=0)"
   ]
  },
  {
   "cell_type": "markdown",
   "id": "charged-hurricane",
   "metadata": {
    "deletable": false,
    "editable": false,
    "nbgrader": {
     "cell_type": "markdown",
     "checksum": "b6128037235f28eec5260d1bb15ae84d",
     "grade": false,
     "grade_id": "cell-c6c4ffc2f9b72d62",
     "locked": true,
     "schema_version": 3,
     "solution": false,
     "task": false
    }
   },
   "source": [
    "## Part 1: scikit-learn (6 points)\n",
    "\n",
    "Implement a multivariate linear regression to predict wine quality using scikit-learn.\n",
    "\n",
    "* Define a regression model `regressor` of the class `LinearRegression` ([link to documentation](https://scikit-learn.org/stable/modules/generated/sklearn.linear_model.LinearRegression.html)).\n",
    "* Train the model on the training data.\n"
   ]
  },
  {
   "cell_type": "code",
   "execution_count": 5,
   "id": "knowing-cricket",
   "metadata": {
    "deletable": false,
    "editable": false,
    "nbgrader": {
     "cell_type": "code",
     "checksum": "ef1b935015f4da85cd4d98a758289d43",
     "grade": false,
     "grade_id": "cell-3c328fe22671c8f4",
     "locked": true,
     "schema_version": 3,
     "solution": false,
     "task": false
    }
   },
   "outputs": [],
   "source": [
    "from sklearn.linear_model import LinearRegression"
   ]
  },
  {
   "cell_type": "code",
   "execution_count": 7,
   "id": "violent-mistake",
   "metadata": {
    "nbgrader": {
     "cell_type": "code",
     "checksum": "88f4e31c936703ae1427eed4a55da984",
     "grade": false,
     "grade_id": "cell-9372177ebd3a7199",
     "locked": false,
     "schema_version": 3,
     "solution": true,
     "task": false
    }
   },
   "outputs": [],
   "source": [
    "regressor = LinearRegression(normalize = True)\n",
    "\n",
    "regressor.fit(x_train, y_train)\n",
    "y_pred = regressor.predict(x_test)\n"
   ]
  },
  {
   "cell_type": "code",
   "execution_count": 8,
   "id": "broken-balance",
   "metadata": {
    "deletable": false,
    "editable": false,
    "nbgrader": {
     "cell_type": "code",
     "checksum": "63f25523e02c6e27c4c455e39ba7deb4",
     "grade": false,
     "grade_id": "cell-eb9d3f3f12376557",
     "locked": true,
     "schema_version": 3,
     "solution": false,
     "task": false
    }
   },
   "outputs": [
    {
     "name": "stdout",
     "output_type": "stream",
     "text": [
      "Intercept: 34.99871062872122\n",
      "Coefficients: [ 4.12835075e-02 -1.14952802e+00 -1.77927063e-01  2.78700036e-02\n",
      " -1.87340739e+00  2.68362616e-03 -2.77748370e-03 -3.15166657e+01\n",
      " -2.54486051e-01  9.24040106e-01  2.67797417e-01]\n"
     ]
    }
   ],
   "source": [
    "# Let's look at the result\n",
    "print(f\"Intercept: {regressor.intercept_}\")\n",
    "print(f\"Coefficients: {regressor.coef_}\")"
   ]
  },
  {
   "cell_type": "markdown",
   "id": "posted-company",
   "metadata": {
    "deletable": false,
    "editable": false,
    "nbgrader": {
     "cell_type": "markdown",
     "checksum": "bde7f15bac7cb65fe8ad8622da4d4851",
     "grade": false,
     "grade_id": "cell-14300172bd4966e0",
     "locked": true,
     "schema_version": 3,
     "solution": false,
     "task": false
    }
   },
   "source": [
    "Determine the **Mean Squared Error (MSE)** and the **Mean Absolute Error (MAE)** on the test data. Store the values in the respective variables `mse` and `mae`.\n",
    "\n",
    "**Note:** Use `metrics` from `sklearn`.\n"
   ]
  },
  {
   "cell_type": "code",
   "execution_count": 9,
   "id": "charitable-damage",
   "metadata": {
    "nbgrader": {
     "cell_type": "code",
     "checksum": "ed7ecdbb8845d3794a3f6109052731f8",
     "grade": false,
     "grade_id": "cell-9f5041e56cfeb0b9",
     "locked": false,
     "schema_version": 3,
     "solution": true,
     "task": false
    }
   },
   "outputs": [
    {
     "name": "stdout",
     "output_type": "stream",
     "text": [
      "0.46963309286611254 0.3844711978201252\n"
     ]
    }
   ],
   "source": [
    "from sklearn.metrics import mean_absolute_error, mean_squared_error\n",
    "\n",
    "# Reference: https://stackoverflow.com/questions/66426928/how-to-calculate-mean-absolute-error-mae-and-mean-signed-error-mse-using-pan\n",
    "mae = mean_absolute_error( y_test, y_pred)\n",
    "mse = mean_squared_error( y_test, y_pred)\n",
    "\n",
    "print(mae, mse)"
   ]
  },
  {
   "cell_type": "code",
   "execution_count": 10,
   "id": "permanent-houston",
   "metadata": {
    "deletable": false,
    "editable": false,
    "nbgrader": {
     "cell_type": "code",
     "checksum": "63b0963d93967399e029be9d834d4f89",
     "grade": true,
     "grade_id": "cell-640b6c8f91b16fdd",
     "locked": true,
     "points": 6,
     "schema_version": 3,
     "solution": false,
     "task": false
    }
   },
   "outputs": [
    {
     "name": "stdout",
     "output_type": "stream",
     "text": [
      "Begin of automatic tests\n",
      "\u001b[1mAll public tests passed!\n",
      " \u001b[0m\n"
     ]
    }
   ],
   "source": [
    "print('Begin of automatic tests')\n",
    "assert np.isscalar(mse), \"MSE must be a scalar value\"\n",
    "assert np.isscalar(mae), \"MAE must be a scalar value\"\n",
    "\n",
    "print('\\033[1mAll public tests passed!\\n \\033[0m')"
   ]
  },
  {
   "cell_type": "markdown",
   "id": "second-butter",
   "metadata": {
    "deletable": false,
    "editable": false,
    "nbgrader": {
     "cell_type": "markdown",
     "checksum": "e3b24931019505a9058e28fdd5fff91a",
     "grade": false,
     "grade_id": "cell-85f39bd52ff83fa5",
     "locked": true,
     "schema_version": 3,
     "solution": false,
     "task": false
    }
   },
   "source": [
    "## Part 2: Regularization (4 points)\n",
    "\n",
    "Implement a multivariate linear regression **with regularization** and find an optimal regularization parameter.\n",
    "\n",
    "Use the `Ridge` class from `sklearn.linear_model` ([link to documentation](https://scikit-learn.org/stable/modules/generated/sklearn.linear_model.Ridge.html)).\n",
    "`Ridge` is used very similarly to `LinearRegression` — you only need to specify the regularization parameter `alpha` ($\\alpha$) when instantiating.\n",
    "\n",
    "```\n",
    "regression = Ridge(alpha=...)\n",
    "```\n",
    "\n",
    "Compared to our familiar regularization parameter $\\lambda$, we have: $\\alpha = \\frac{\\lambda}{2m}$.\n",
    "\n",
    "Determine which value from ${0.2,0.5,0.6}$ is the best `alpha_opt` that **minimizes the MSE on the test data**.\n",
    "\n",
    "### Note\n",
    "\n",
    "* Use `Ridge` as the regression model.\n",
    "* Use `metrics` from `sklearn` to compute the MSE.\n",
    "* Define one regession model for each choice of `alpha_opt`\n",
    "  * Define (with `alpha`) and train a `Ridge` regressor.\n",
    "  * Compute the MSE on the test data.\n"
   ]
  },
  {
   "cell_type": "code",
   "execution_count": 11,
   "id": "analyzed-fraud",
   "metadata": {
    "deletable": false,
    "editable": false,
    "nbgrader": {
     "cell_type": "code",
     "checksum": "bd194ab766808826c435bf884ba4586f",
     "grade": false,
     "grade_id": "cell-567e928b593575fb",
     "locked": true,
     "schema_version": 3,
     "solution": false,
     "task": false
    }
   },
   "outputs": [],
   "source": [
    "from sklearn.linear_model import Ridge"
   ]
  },
  {
   "cell_type": "code",
   "execution_count": 22,
   "id": "french-stockholm",
   "metadata": {
    "nbgrader": {
     "cell_type": "code",
     "checksum": "45cb5f9bf3e565cfeb7349d7a1a36bec",
     "grade": false,
     "grade_id": "cell-dc9dfd63ffc9a51e",
     "locked": false,
     "schema_version": 3,
     "solution": true,
     "task": false
    }
   },
   "outputs": [
    {
     "name": "stdout",
     "output_type": "stream",
     "text": [
      "Test MSE by alpha {0.2: 0.38259401668190507, 0.5: 0.38256731940935884, 0.6: 0.3825741256355938}\n",
      "mses: [array([0.38259402, 0.38256732, 0.38257413])]\n",
      "best_idx: 1\n",
      "The optimal alpha is: 0.5\n",
      "Train MSE at alpha_opt 0.42662012150062045\n"
     ]
    }
   ],
   "source": [
    "alphas = [0.2, 0.5, 0.6]\n",
    "\n",
    "alpha_opt_1 =  Ridge(alpha=alphas[0])\n",
    "alpha_opt_2 =  Ridge(alpha=alphas[1])\n",
    "alpha_opt_3 =  Ridge(alpha=alphas[2])\n",
    "\n",
    "\n",
    "# train\n",
    "alpha_opt_1.fit(x_train, y_train)\n",
    "alpha_opt_2.fit(x_train, y_train)\n",
    "alpha_opt_3.fit(x_train, y_train)\n",
    "\n",
    "# evaluate MSE on test for each alpha\n",
    "y_pred_1 = alpha_opt_1.predict(x_test)\n",
    "y_pred_2 = alpha_opt_2.predict(x_test)\n",
    "y_pred_3 = alpha_opt_3.predict(x_test)\n",
    "\n",
    "\n",
    "## This should be the MSE and not the score as mentioned in the question\n",
    "mse_1 = mean_squared_error(y_test, y_pred_1)\n",
    "mse_2 = mean_squared_error(y_test, y_pred_2)\n",
    "mse_3 = mean_squared_error(y_test, y_pred_3)\n",
    "\n",
    "print(\"Test MSE by alpha\",\n",
    "      {alphas[0]: mse_1, alphas[1]: mse_2, alphas[2]: mse_3})\n",
    "\n",
    "\n",
    "mses = np.array([mse_1, mse_2, mse_3])  # NumPy array\n",
    "\n",
    "# argmin method returns the index of minimum value\n",
    "best_idx = np.argmin(mses) \n",
    "\n",
    "# just to check above\n",
    "print(\"mses:\", [mses])\n",
    "print(\"best_idx:\", best_idx)\n",
    "\n",
    " # alpha at that index\n",
    "alpha_opt = alphas[best_idx]            \n",
    "print(\"The optimal alpha is:\", alpha_opt)\n",
    "# Above check which index in array mses has the minimum value\n",
    "\n",
    "# if you also want train MSE for the chosen model\n",
    "chosen_model = [alpha_opt_1, alpha_opt_2, alpha_opt_3][best_idx]\n",
    "y_pred_train = chosen_model.predict(x_train)\n",
    "mse_train = mean_squared_error(y_train, y_pred_train)\n",
    "print(\"Train MSE at alpha_opt\", mse_train)"
   ]
  },
  {
   "cell_type": "code",
   "execution_count": 14,
   "id": "junior-arbor",
   "metadata": {
    "deletable": false,
    "editable": false,
    "nbgrader": {
     "cell_type": "code",
     "checksum": "35fdab60e8e927622009f1f5e46a2602",
     "grade": true,
     "grade_id": "cell-978febc084894db0",
     "locked": true,
     "points": 4,
     "schema_version": 3,
     "solution": false,
     "task": false
    }
   },
   "outputs": [
    {
     "name": "stdout",
     "output_type": "stream",
     "text": [
      "\u001b[1mNo public tests\n",
      " \u001b[0m\n"
     ]
    }
   ],
   "source": [
    "print('\\033[1mNo public tests\\n \\033[0m')"
   ]
  },
  {
   "cell_type": "markdown",
   "id": "7a17ed2e",
   "metadata": {
    "deletable": false,
    "editable": false,
    "nbgrader": {
     "cell_type": "markdown",
     "checksum": "083031f270f1a7d0e4390d59117465ae",
     "grade": false,
     "grade_id": "cell-fcd91a8c043e673b",
     "locked": true,
     "schema_version": 3,
     "solution": false,
     "task": false
    }
   },
   "source": [
    "# Iris Dataset\n",
    "\n",
    "For the following three tasks, we will make use of the Iris dataset, among others.\n",
    "\n",
    "The iris, also known as the sword lily, is a genus of plants with six subgenera and more than 200 species. We use the well-known Iris dataset, which contains the length and width of the sepals and petals, as well as the species of over 100 examined specimens.\n",
    "\n",
    "|                   Iris setosa                   |                       Iris versicolor                       |                      Iris virginica                      |\n",
    "| :---------------------------------------------: | :---------------------------------------------------------: | :------------------------------------------------------: |\n",
    "| ![Iris-setosa](./Iris_setosa.jpg \"Iris setosa\") | ![Iris-versicolor](./Iris_versicolor.jpg \"Iris versicolor\") | ![Iris-virginica](./Iris_virginica.jpg \"Iris virginica\") |\n"
   ]
  },
  {
   "cell_type": "code",
   "execution_count": 15,
   "id": "97fa8185",
   "metadata": {
    "deletable": false,
    "editable": false,
    "nbgrader": {
     "cell_type": "code",
     "checksum": "755a26551b79f8aaaf537e88590f1109",
     "grade": false,
     "grade_id": "cell-179fa975a0106712",
     "locked": true,
     "schema_version": 3,
     "solution": false,
     "task": false
    }
   },
   "outputs": [],
   "source": [
    "with np.load('iris.npz') as data:\n",
    "    X_train, y_train, = data['x_train'], data['y_train']\n",
    "    X_test, y_test = data['x_test'], data['y_test']"
   ]
  },
  {
   "cell_type": "markdown",
   "id": "5de5056f",
   "metadata": {
    "deletable": false,
    "editable": false,
    "nbgrader": {
     "cell_type": "markdown",
     "checksum": "bf2e244a32ab92b6015d9a86c546bee7",
     "grade": false,
     "grade_id": "cell-adc633c6845fc5f7",
     "locked": true,
     "schema_version": 3,
     "solution": false,
     "task": false
    }
   },
   "source": [
    "The first five entries of\n",
    "`X_train` (sepal_length, sepal_width, petal_length, petal_width) together with\n",
    "`y_train`, i.e., the species.\n"
   ]
  },
  {
   "cell_type": "code",
   "execution_count": 16,
   "id": "2e861978",
   "metadata": {
    "deletable": false,
    "editable": false,
    "nbgrader": {
     "cell_type": "code",
     "checksum": "00e1fc71bbafe9c37dc2cc2d454370c6",
     "grade": false,
     "grade_id": "cell-1bb72210698b184f",
     "locked": true,
     "schema_version": 3,
     "solution": false,
     "task": false
    }
   },
   "outputs": [
    {
     "data": {
      "text/html": [
       "<div>\n",
       "<style scoped>\n",
       "    .dataframe tbody tr th:only-of-type {\n",
       "        vertical-align: middle;\n",
       "    }\n",
       "\n",
       "    .dataframe tbody tr th {\n",
       "        vertical-align: top;\n",
       "    }\n",
       "\n",
       "    .dataframe thead th {\n",
       "        text-align: right;\n",
       "    }\n",
       "</style>\n",
       "<table border=\"1\" class=\"dataframe\">\n",
       "  <thead>\n",
       "    <tr style=\"text-align: right;\">\n",
       "      <th></th>\n",
       "      <th>sepal_length</th>\n",
       "      <th>sepal_width</th>\n",
       "      <th>petal_length</th>\n",
       "      <th>petal_width</th>\n",
       "      <th>species</th>\n",
       "    </tr>\n",
       "  </thead>\n",
       "  <tbody>\n",
       "    <tr>\n",
       "      <th>0</th>\n",
       "      <td>6.4</td>\n",
       "      <td>3.1</td>\n",
       "      <td>5.5</td>\n",
       "      <td>1.8</td>\n",
       "      <td>2.0</td>\n",
       "    </tr>\n",
       "    <tr>\n",
       "      <th>1</th>\n",
       "      <td>5.4</td>\n",
       "      <td>3.0</td>\n",
       "      <td>4.5</td>\n",
       "      <td>1.5</td>\n",
       "      <td>1.0</td>\n",
       "    </tr>\n",
       "    <tr>\n",
       "      <th>2</th>\n",
       "      <td>5.2</td>\n",
       "      <td>3.5</td>\n",
       "      <td>1.5</td>\n",
       "      <td>0.2</td>\n",
       "      <td>0.0</td>\n",
       "    </tr>\n",
       "    <tr>\n",
       "      <th>3</th>\n",
       "      <td>6.1</td>\n",
       "      <td>3.0</td>\n",
       "      <td>4.9</td>\n",
       "      <td>1.8</td>\n",
       "      <td>2.0</td>\n",
       "    </tr>\n",
       "    <tr>\n",
       "      <th>4</th>\n",
       "      <td>6.4</td>\n",
       "      <td>2.8</td>\n",
       "      <td>5.6</td>\n",
       "      <td>2.2</td>\n",
       "      <td>2.0</td>\n",
       "    </tr>\n",
       "  </tbody>\n",
       "</table>\n",
       "</div>"
      ],
      "text/plain": [
       "   sepal_length  sepal_width  petal_length  petal_width  species\n",
       "0           6.4          3.1           5.5          1.8      2.0\n",
       "1           5.4          3.0           4.5          1.5      1.0\n",
       "2           5.2          3.5           1.5          0.2      0.0\n",
       "3           6.1          3.0           4.9          1.8      2.0\n",
       "4           6.4          2.8           5.6          2.2      2.0"
      ]
     },
     "execution_count": 16,
     "metadata": {},
     "output_type": "execute_result"
    }
   ],
   "source": [
    "df = pd.DataFrame(\n",
    "    np.hstack((X_train, np.array([y_train]).T)), \n",
    "    columns=['sepal_length','sepal_width','petal_length','petal_width', 'species'],\n",
    ")\n",
    "df.head()"
   ]
  },
  {
   "cell_type": "markdown",
   "id": "175f9a46",
   "metadata": {
    "deletable": false,
    "editable": false,
    "nbgrader": {
     "cell_type": "markdown",
     "checksum": "e25cc4443252bdff4d8ee6ebb6de43f1",
     "grade": false,
     "grade_id": "cell-908c7847768dd388",
     "locked": true,
     "schema_version": 3,
     "solution": false,
     "task": false
    }
   },
   "source": [
    "Summary of the dataset"
   ]
  },
  {
   "cell_type": "code",
   "execution_count": 17,
   "id": "4599b2b1",
   "metadata": {
    "deletable": false,
    "editable": false,
    "nbgrader": {
     "cell_type": "code",
     "checksum": "203555aeb9f0073ae1c19471023d70f2",
     "grade": false,
     "grade_id": "cell-c1f535d2a1daaa40",
     "locked": true,
     "schema_version": 3,
     "solution": false,
     "task": false
    }
   },
   "outputs": [
    {
     "data": {
      "text/html": [
       "<div>\n",
       "<style scoped>\n",
       "    .dataframe tbody tr th:only-of-type {\n",
       "        vertical-align: middle;\n",
       "    }\n",
       "\n",
       "    .dataframe tbody tr th {\n",
       "        vertical-align: top;\n",
       "    }\n",
       "\n",
       "    .dataframe thead th {\n",
       "        text-align: right;\n",
       "    }\n",
       "</style>\n",
       "<table border=\"1\" class=\"dataframe\">\n",
       "  <thead>\n",
       "    <tr style=\"text-align: right;\">\n",
       "      <th></th>\n",
       "      <th>sepal_length</th>\n",
       "      <th>sepal_width</th>\n",
       "      <th>petal_length</th>\n",
       "      <th>petal_width</th>\n",
       "      <th>species</th>\n",
       "    </tr>\n",
       "  </thead>\n",
       "  <tbody>\n",
       "    <tr>\n",
       "      <th>count</th>\n",
       "      <td>120.000000</td>\n",
       "      <td>120.000000</td>\n",
       "      <td>120.000000</td>\n",
       "      <td>120.000000</td>\n",
       "      <td>120.000000</td>\n",
       "    </tr>\n",
       "    <tr>\n",
       "      <th>mean</th>\n",
       "      <td>5.880833</td>\n",
       "      <td>3.053333</td>\n",
       "      <td>3.815833</td>\n",
       "      <td>1.230833</td>\n",
       "      <td>1.041667</td>\n",
       "    </tr>\n",
       "    <tr>\n",
       "      <th>std</th>\n",
       "      <td>0.850437</td>\n",
       "      <td>0.431907</td>\n",
       "      <td>1.784904</td>\n",
       "      <td>0.776525</td>\n",
       "      <td>0.834103</td>\n",
       "    </tr>\n",
       "    <tr>\n",
       "      <th>min</th>\n",
       "      <td>4.300000</td>\n",
       "      <td>2.000000</td>\n",
       "      <td>1.100000</td>\n",
       "      <td>0.100000</td>\n",
       "      <td>0.000000</td>\n",
       "    </tr>\n",
       "    <tr>\n",
       "      <th>25%</th>\n",
       "      <td>5.100000</td>\n",
       "      <td>2.800000</td>\n",
       "      <td>1.600000</td>\n",
       "      <td>0.300000</td>\n",
       "      <td>0.000000</td>\n",
       "    </tr>\n",
       "    <tr>\n",
       "      <th>50%</th>\n",
       "      <td>5.800000</td>\n",
       "      <td>3.000000</td>\n",
       "      <td>4.350000</td>\n",
       "      <td>1.300000</td>\n",
       "      <td>1.000000</td>\n",
       "    </tr>\n",
       "    <tr>\n",
       "      <th>75%</th>\n",
       "      <td>6.500000</td>\n",
       "      <td>3.300000</td>\n",
       "      <td>5.200000</td>\n",
       "      <td>1.900000</td>\n",
       "      <td>2.000000</td>\n",
       "    </tr>\n",
       "    <tr>\n",
       "      <th>max</th>\n",
       "      <td>7.900000</td>\n",
       "      <td>4.400000</td>\n",
       "      <td>6.900000</td>\n",
       "      <td>2.500000</td>\n",
       "      <td>2.000000</td>\n",
       "    </tr>\n",
       "  </tbody>\n",
       "</table>\n",
       "</div>"
      ],
      "text/plain": [
       "       sepal_length  sepal_width  petal_length  petal_width     species\n",
       "count    120.000000   120.000000    120.000000   120.000000  120.000000\n",
       "mean       5.880833     3.053333      3.815833     1.230833    1.041667\n",
       "std        0.850437     0.431907      1.784904     0.776525    0.834103\n",
       "min        4.300000     2.000000      1.100000     0.100000    0.000000\n",
       "25%        5.100000     2.800000      1.600000     0.300000    0.000000\n",
       "50%        5.800000     3.000000      4.350000     1.300000    1.000000\n",
       "75%        6.500000     3.300000      5.200000     1.900000    2.000000\n",
       "max        7.900000     4.400000      6.900000     2.500000    2.000000"
      ]
     },
     "execution_count": 17,
     "metadata": {},
     "output_type": "execute_result"
    }
   ],
   "source": [
    "df.describe()"
   ]
  },
  {
   "cell_type": "markdown",
   "id": "04004c12",
   "metadata": {
    "deletable": false,
    "editable": false,
    "nbgrader": {
     "cell_type": "markdown",
     "checksum": "f3b65c43c06a594e6aa03a4db977ec55",
     "grade": false,
     "grade_id": "cell-37dec99d7d0d7756",
     "locked": true,
     "schema_version": 3,
     "solution": false,
     "task": false
    }
   },
   "source": [
    "We can see that the training dataset contains 120 samples from three classes."
   ]
  },
  {
   "cell_type": "code",
   "execution_count": 18,
   "id": "b36f573a",
   "metadata": {
    "deletable": false,
    "editable": false,
    "nbgrader": {
     "cell_type": "code",
     "checksum": "47bfb9b117f714fcb0847d9a42973d8f",
     "grade": false,
     "grade_id": "cell-b69d706020a81ffd",
     "locked": true,
     "schema_version": 3,
     "solution": false,
     "task": false
    }
   },
   "outputs": [
    {
     "name": "stdout",
     "output_type": "stream",
     "text": [
      "Shape von X_train: (120, 4)\n",
      "Shape von y_train: (120,)\n"
     ]
    }
   ],
   "source": [
    "print('Shape von X_train:', X_train.shape)\n",
    "print('Shape von y_train:', y_train.shape)"
   ]
  },
  {
   "cell_type": "markdown",
   "id": "b25304f6",
   "metadata": {
    "deletable": false,
    "editable": false,
    "nbgrader": {
     "cell_type": "markdown",
     "checksum": "ce757a22af25b9d654bba7dfceab6097",
     "grade": false,
     "grade_id": "cell-74a90c745ee9a1bf",
     "locked": true,
     "schema_version": 3,
     "solution": false,
     "task": false
    }
   },
   "source": [
    "# Task 2 – Iris: Logistic Regression with scikit-learn (10 points)\n",
    "\n",
    "### Assignment\n",
    "\n",
    "Classify the Iris dataset using logistic regression. To do this, complete the functions `logmodel` and `logmodelreg`.\n",
    "\n",
    "\n",
    "* **Part 1:** Implement the classifier `logmodel` using scikit-learn and specify the maximum number of iterations to be 500. (5 points)\n",
    "* **Part 2:** Implement the classifier `logmodelreg`, where you implement a **very strong** regularization (and keep the maximum number of iterations at 500). (5 points)\n",
    "\n",
    "**Note:** The [documentation here](https://scikit-learn.org/stable/modules/generated/sklearn.linear_model.LogisticRegression.html) might be helpful for this task...\n"
   ]
  },
  {
   "cell_type": "code",
   "execution_count": 24,
   "id": "a8344736",
   "metadata": {
    "deletable": false,
    "editable": false,
    "nbgrader": {
     "cell_type": "code",
     "checksum": "cd79c4b2ab30c14941dc1019801c105e",
     "grade": false,
     "grade_id": "cell-dccaf54b7fdd45d5",
     "locked": true,
     "schema_version": 3,
     "solution": false,
     "task": false
    }
   },
   "outputs": [],
   "source": [
    "from tensorflow.keras.utils import to_categorical\n",
    "from sklearn import linear_model\n",
    "from sklearn.linear_model import LogisticRegression\n",
    "\n",
    "with np.load('iris.npz') as data:\n",
    "    X_train, y_train, = data['x_train'], data['y_train']\n",
    "    X_test, y_test = data['x_test'], data['y_test']"
   ]
  },
  {
   "cell_type": "markdown",
   "id": "c459ba7f",
   "metadata": {
    "deletable": false,
    "editable": false,
    "nbgrader": {
     "cell_type": "markdown",
     "checksum": "c67d5be030c5d194f3e8b605d4a72e80",
     "grade": false,
     "grade_id": "cell-9579956adcf041b8",
     "locked": true,
     "schema_version": 3,
     "solution": false,
     "task": false
    }
   },
   "source": [
    "### Part 1: Implement the classifier `logmodel` and specify the maximum number of iterations to be 500. (5 Points)"
   ]
  },
  {
   "cell_type": "code",
   "execution_count": 25,
   "id": "30b9c7af",
   "metadata": {
    "nbgrader": {
     "cell_type": "code",
     "checksum": "e4f14fa69f4bcec30fa3cd91671570b2",
     "grade": false,
     "grade_id": "cell-f2a0762f60b72d1f",
     "locked": false,
     "schema_version": 3,
     "solution": true,
     "task": false
    }
   },
   "outputs": [
    {
     "data": {
      "text/plain": [
       "LogisticRegression(max_iter=500, random_state=0)"
      ]
     },
     "execution_count": 25,
     "metadata": {},
     "output_type": "execute_result"
    }
   ],
   "source": [
    "logmodel= LogisticRegression(random_state=0, max_iter=500)\n",
    "logmodel.fit(X_train,y_train)\n",
    "logmodel.fit(X_test,y_test)"
   ]
  },
  {
   "cell_type": "markdown",
   "id": "figured-castle",
   "metadata": {
    "deletable": false,
    "editable": false,
    "nbgrader": {
     "cell_type": "markdown",
     "checksum": "76f80c05b663be2d838beed0fc70d247",
     "grade": false,
     "grade_id": "cell-7c835993e4f5b8a1",
     "locked": true,
     "schema_version": 3,
     "solution": false,
     "task": false
    }
   },
   "source": [
    "Here, we can see the accuracies on the training and test set, respectively."
   ]
  },
  {
   "cell_type": "code",
   "execution_count": 26,
   "id": "satisfied-investing",
   "metadata": {
    "deletable": false,
    "editable": false,
    "nbgrader": {
     "cell_type": "code",
     "checksum": "d11031feb696193c92c776828b1dcef7",
     "grade": false,
     "grade_id": "cell-634901f3ddf83616",
     "locked": true,
     "schema_version": 3,
     "solution": false,
     "task": false
    }
   },
   "outputs": [
    {
     "name": "stdout",
     "output_type": "stream",
     "text": [
      "Train Accuracy: 0.9417\n",
      "Test Accuracy:  0.9667\n"
     ]
    }
   ],
   "source": [
    "train_acc=logmodel.score(X_train,y_train)\n",
    "test_acc=logmodel.score(X_test,y_test)\n",
    "print(f\"Train Accuracy: {train_acc:.4f}\")\n",
    "print(f\"Test Accuracy:  {test_acc:.4f}\")"
   ]
  },
  {
   "cell_type": "code",
   "execution_count": 27,
   "id": "weighted-uniform",
   "metadata": {
    "deletable": false,
    "editable": false,
    "nbgrader": {
     "cell_type": "code",
     "checksum": "9238a42e6eb7cb11b2560e848c03ff4e",
     "grade": true,
     "grade_id": "cell-77c569a4bb7a029a",
     "locked": true,
     "points": 5,
     "schema_version": 3,
     "solution": false,
     "task": false
    }
   },
   "outputs": [
    {
     "name": "stdout",
     "output_type": "stream",
     "text": [
      "Begin of automatic tests\n",
      "\u001b[1mAll public tests passed!\n",
      " \u001b[0m\n"
     ]
    }
   ],
   "source": [
    "print('Begin of automatic tests')\n",
    "assert np.isscalar(train_acc), \"MSE must be a scalar value\"\n",
    "assert np.isscalar(test_acc), \"MAE must be a scalar value\"\n",
    "\n",
    "print('\\033[1mAll public tests passed!\\n \\033[0m')"
   ]
  },
  {
   "cell_type": "markdown",
   "id": "a5bc4ed2",
   "metadata": {
    "deletable": false,
    "editable": false,
    "nbgrader": {
     "cell_type": "markdown",
     "checksum": "9d705495ac3197b50b636b6c6841c50d",
     "grade": false,
     "grade_id": "cell-cc4270dce476bb37",
     "locked": true,
     "schema_version": 3,
     "solution": false,
     "task": false
    }
   },
   "source": [
    "### Part 2: Implement the classifier `logmodelreg`, with a very strong regularization (5 Punkte)\n",
    "Keep the maximum number of iterations at 500 and answer the theoretical question below."
   ]
  },
  {
   "cell_type": "code",
   "execution_count": 28,
   "id": "8aa43520",
   "metadata": {
    "nbgrader": {
     "cell_type": "code",
     "checksum": "8dd605c808d78b3e03dff789c69eb21d",
     "grade": false,
     "grade_id": "cell-7de83752c550b314",
     "locked": false,
     "schema_version": 3,
     "solution": true,
     "task": false
    }
   },
   "outputs": [],
   "source": [
    "from sklearn.linear_model import RidgeClassifier\n",
    "\n",
    "logmodelreg= RidgeClassifier(alpha=1.0, max_iter=500).fit(X_train,y_train)"
   ]
  },
  {
   "cell_type": "markdown",
   "id": "computational-large",
   "metadata": {
    "deletable": false,
    "editable": false,
    "nbgrader": {
     "cell_type": "markdown",
     "checksum": "82892b7dca85ccd7d184c7e0f76594b2",
     "grade": false,
     "grade_id": "cell-b4f19f968c643a59",
     "locked": true,
     "schema_version": 3,
     "solution": false,
     "task": false
    }
   },
   "source": [
    "Here, we can see the accuracies on the training and test set, respectively."
   ]
  },
  {
   "cell_type": "code",
   "execution_count": 29,
   "id": "6499b14a",
   "metadata": {
    "nbgrader": {
     "cell_type": "code",
     "checksum": "9421929147bb7b650a7717f748791a29",
     "grade": false,
     "grade_id": "cell-1332b7c2a23e21f0",
     "locked": false,
     "schema_version": 3,
     "solution": true,
     "task": false
    }
   },
   "outputs": [
    {
     "name": "stdout",
     "output_type": "stream",
     "text": [
      "0.8583333333333333 0.8\n"
     ]
    }
   ],
   "source": [
    "# DEINE ANTWORT HIER\n",
    "train_acc_reg=logmodelreg.score(X_train,y_train)\n",
    "test_acc_reg=logmodelreg.score(X_test,y_test)\n",
    "print(train_acc_reg, test_acc_reg)"
   ]
  },
  {
   "cell_type": "markdown",
   "id": "fabulous-nutrition",
   "metadata": {
    "deletable": false,
    "editable": false,
    "nbgrader": {
     "cell_type": "markdown",
     "checksum": "b0e72eea02badb410fb84be07dbcfac6",
     "grade": false,
     "grade_id": "cell-e74a514f9d102620",
     "locked": true,
     "schema_version": 3,
     "solution": false,
     "task": false
    }
   },
   "source": [
    "Let the training and test accuracy for the second classifier be as follows:\n",
    "\n",
    "```\n",
    "Train Accuracy: 0.3667\n",
    "Test Accuracy:  0.200\n",
    "```\n",
    "\n",
    "**Do you detect over- or underfitting? Justify your answer! (max. 3 sentences)**\n",
    "\n",
    "**Double-click on \"YOUR ANSWER HERE\"**\n",
    "\n",
    "Note: You should have obtained approximately these accuracies with `logmodelreg` above."
   ]
  },
  {
   "cell_type": "markdown",
   "id": "adolescent-publication",
   "metadata": {
    "nbgrader": {
     "cell_type": "markdown",
     "checksum": "7906b3ac851e9215649e632d9bfdaafd",
     "grade": true,
     "grade_id": "cell-13f81fe87271b91e",
     "locked": false,
     "points": 2.5,
     "schema_version": 3,
     "solution": true,
     "task": false
    }
   },
   "source": [
    "There is a underfitting. As train data is performing way better than the test data."
   ]
  },
  {
   "cell_type": "code",
   "execution_count": 30,
   "id": "e0b7a8e2",
   "metadata": {
    "deletable": false,
    "editable": false,
    "nbgrader": {
     "cell_type": "code",
     "checksum": "69b3f19fc93de93ec2f756c73ad5fae3",
     "grade": true,
     "grade_id": "cell-2b48eba1d8b72420",
     "locked": true,
     "points": 2.5,
     "schema_version": 3,
     "solution": false,
     "task": false
    }
   },
   "outputs": [
    {
     "name": "stdout",
     "output_type": "stream",
     "text": [
      "Begin of automatic tests\n",
      "\u001b[1mAll public tests passed!\n",
      " \u001b[0m\n"
     ]
    }
   ],
   "source": [
    "print('Begin of automatic tests')\n",
    "assert np.isscalar(train_acc_reg), \"MSE must be a scalar value\"\n",
    "assert np.isscalar(test_acc_reg), \"MAE must be a scalar value\"\n",
    "\n",
    "print('\\033[1mAll public tests passed!\\n \\033[0m')"
   ]
  },
  {
   "cell_type": "markdown",
   "id": "lyric-wallpaper",
   "metadata": {
    "deletable": false,
    "editable": false,
    "nbgrader": {
     "cell_type": "markdown",
     "checksum": "521cb6b10b471752398442264a9f2764",
     "grade": false,
     "grade_id": "cell-62a23ed656e0156e",
     "locked": true,
     "schema_version": 3,
     "solution": false,
     "task": false
    }
   },
   "source": [
    "# Task 3 – Iris Classification with Decision Trees (10 points)\n",
    "\n",
    "In this task, you will implement an two decision trees to classify iris flowers.\n",
    "\n",
    "### Assignment\n",
    "\n",
    "* **Part 1:** Define and train a decision tree on the Iris dataset (5 points).\n",
    "* **Part 2:** Define and train other decision trees with adapted hyperparameters (5 points).\n",
    "\n",
    "**Note:** The [documentation here](https://scikit-learn.org/stable/modules/generated/sklearn.tree.DecisionTreeClassifier.html) might be helpful for this task..."
   ]
  },
  {
   "cell_type": "code",
   "execution_count": 31,
   "id": "recognized-constraint",
   "metadata": {
    "deletable": false,
    "editable": false,
    "nbgrader": {
     "cell_type": "code",
     "checksum": "01c4e753af75b645cc0733772cd146fa",
     "grade": false,
     "grade_id": "cell-eaa1d8186b502c26",
     "locked": true,
     "schema_version": 3,
     "solution": false,
     "task": false
    }
   },
   "outputs": [],
   "source": [
    "from sklearn.model_selection import train_test_split\n",
    "from sklearn.tree import DecisionTreeClassifier\n",
    "from sklearn.metrics import accuracy_score, classification_report, confusion_matrix\n",
    "\n",
    "with np.load('iris.npz') as data:\n",
    "    X_train, y_train, = data['x_train'], data['y_train']\n",
    "    X_test, y_test = data['x_test'], data['y_test']"
   ]
  },
  {
   "cell_type": "markdown",
   "id": "registered-cyprus",
   "metadata": {
    "deletable": false,
    "editable": false,
    "nbgrader": {
     "cell_type": "markdown",
     "checksum": "ce80d91eca029e33cec23376b94d9e9e",
     "grade": false,
     "grade_id": "cell-779b6fb9b1ed6bf7",
     "locked": true,
     "schema_version": 3,
     "solution": false,
     "task": false
    }
   },
   "source": [
    "### Part 1: Train Decision Tree (5 points)\n",
    "\n",
    "Train an decision tree `tree` on the Iris training data. Use the following hyperparameters:\n",
    "\n",
    "* max_depth=3\n",
    "* min_sample_split=3\n",
    "* min_samples_leaf=2"
   ]
  },
  {
   "cell_type": "code",
   "execution_count": 32,
   "id": "impressive-display",
   "metadata": {
    "nbgrader": {
     "cell_type": "code",
     "checksum": "2a62bfec89c723703a7fd6d81213b11c",
     "grade": false,
     "grade_id": "cell-87c4246f36cb10fb",
     "locked": false,
     "schema_version": 3,
     "solution": true,
     "task": false
    }
   },
   "outputs": [
    {
     "data": {
      "text/plain": [
       "DecisionTreeClassifier(max_depth=3, min_samples_leaf=2, min_samples_split=3,\n",
       "                       random_state=0)"
      ]
     },
     "execution_count": 32,
     "metadata": {},
     "output_type": "execute_result"
    }
   ],
   "source": [
    "tree = DecisionTreeClassifier(random_state=0, max_depth=3, min_samples_split=3, min_samples_leaf=2)\n",
    "\n",
    "# DEINE ANTWORT HIER\n",
    "tree.fit(X_train, y_train)"
   ]
  },
  {
   "cell_type": "code",
   "execution_count": 33,
   "id": "spoken-poster",
   "metadata": {
    "deletable": false,
    "editable": false,
    "nbgrader": {
     "cell_type": "code",
     "checksum": "b31b8613588539fdbbdfbc295ae334ea",
     "grade": false,
     "grade_id": "cell-46b0294949a9ddba",
     "locked": true,
     "schema_version": 3,
     "solution": false,
     "task": false
    }
   },
   "outputs": [
    {
     "name": "stdout",
     "output_type": "stream",
     "text": [
      "Training Data Accuracy: 0.9666666666666667\n",
      "Test Data Accuracy: 0.9666666666666667\n"
     ]
    }
   ],
   "source": [
    "# Predict on training data\n",
    "y_pred_train = tree.predict(X_train)\n",
    "# Evaluate the model\n",
    "print(\"Training Data Accuracy:\", accuracy_score(y_train, y_pred_train))\n",
    "\n",
    "# Predict on test data\n",
    "y_pred = tree.predict(X_test)\n",
    "\n",
    "# Evaluate the model\n",
    "print(\"Test Data Accuracy:\", accuracy_score(y_test, y_pred))"
   ]
  },
  {
   "cell_type": "code",
   "execution_count": 34,
   "id": "eastern-louis",
   "metadata": {
    "deletable": false,
    "editable": false,
    "nbgrader": {
     "cell_type": "code",
     "checksum": "010fcee33e7d36f94de52468e0651bb7",
     "grade": true,
     "grade_id": "cell-33d58e93dbf980aa",
     "locked": true,
     "points": 5,
     "schema_version": 3,
     "solution": false,
     "task": false
    }
   },
   "outputs": [
    {
     "name": "stdout",
     "output_type": "stream",
     "text": [
      "Begin of automatic tests\n",
      "\u001b[1mAll public tests passed!\n",
      " \u001b[0m\n"
     ]
    }
   ],
   "source": [
    "print('Begin of automatic tests')\n",
    "assert np.isscalar(accuracy_score(y_train, y_pred_train)), \" must be a scalar value\"\n",
    "assert np.isscalar(accuracy_score(y_test, y_pred)), \" must be a scalar value\"\n",
    "\n",
    "print('\\033[1mAll public tests passed!\\n \\033[0m')"
   ]
  },
  {
   "cell_type": "markdown",
   "id": "cooked-medicaid",
   "metadata": {
    "deletable": false,
    "editable": false,
    "nbgrader": {
     "cell_type": "markdown",
     "checksum": "0e76c303ac5279d66c8a3f89c57971b4",
     "grade": false,
     "grade_id": "cell-7b781a9ff792bc8a",
     "locked": true,
     "schema_version": 3,
     "solution": false,
     "task": false
    }
   },
   "source": [
    "### Part 2: Find Better Hyperparameters (5 points)\n",
    "\n",
    "We can see that the decision tree is not perfect (neither of the accuracies is 100%).\n",
    "\n",
    "Train an decision tree `tree_adapt` on the Iris training data with adapted hyperparameters:\n",
    "\n",
    "* increase `max_depth`\n",
    "* decrease `min_sample_split`\n",
    "* decrease `min_samples_leaf`"
   ]
  },
  {
   "cell_type": "code",
   "execution_count": 35,
   "id": "independent-devices",
   "metadata": {
    "nbgrader": {
     "cell_type": "code",
     "checksum": "a17d5b9e945868c97c80fc9a4512f81a",
     "grade": false,
     "grade_id": "cell-5ece76eba82fdf37",
     "locked": false,
     "schema_version": 3,
     "solution": true,
     "task": false
    }
   },
   "outputs": [
    {
     "data": {
      "text/plain": [
       "DecisionTreeClassifier(max_depth=5, random_state=0)"
      ]
     },
     "execution_count": 35,
     "metadata": {},
     "output_type": "execute_result"
    }
   ],
   "source": [
    "tree_adapt = DecisionTreeClassifier(random_state=0, max_depth=5, min_samples_split=2, min_samples_leaf=1)\n",
    "\n",
    "tree_adapt.fit(X_train, y_train)"
   ]
  },
  {
   "cell_type": "code",
   "execution_count": 31,
   "id": "united-retailer",
   "metadata": {
    "deletable": false,
    "editable": false,
    "nbgrader": {
     "cell_type": "code",
     "checksum": "82d93dd865f591f2d57d3b12bd314401",
     "grade": false,
     "grade_id": "cell-33b15f0134506fd7",
     "locked": true,
     "schema_version": 3,
     "solution": false,
     "task": false
    }
   },
   "outputs": [
    {
     "name": "stdout",
     "output_type": "stream",
     "text": [
      "Training Data Accuracy: 1.0\n",
      "Test Data Accuracy: 1.0\n"
     ]
    }
   ],
   "source": [
    "# Predict on training data\n",
    "y_pred_train_adapt = tree_adapt.predict(X_train)\n",
    "# Evaluate the model\n",
    "print(\"Training Data Accuracy:\", accuracy_score(y_train, y_pred_train_adapt))\n",
    "\n",
    "# Predict on test data\n",
    "y_pred_adapt = tree_adapt.predict(X_test)\n",
    "\n",
    "# Evaluate the model\n",
    "print(\"Test Data Accuracy:\", accuracy_score(y_test, y_pred_adapt))"
   ]
  },
  {
   "cell_type": "code",
   "execution_count": 32,
   "id": "instructional-translator",
   "metadata": {
    "deletable": false,
    "editable": false,
    "nbgrader": {
     "cell_type": "code",
     "checksum": "51efba63ea5bca309e6969b417f9e46b",
     "grade": true,
     "grade_id": "cell-0d4ec68067184fa4",
     "locked": true,
     "points": 5,
     "schema_version": 3,
     "solution": false,
     "task": false
    }
   },
   "outputs": [
    {
     "name": "stdout",
     "output_type": "stream",
     "text": [
      "Begin of automatic tests\n",
      "\u001b[1mAll public tests passed!\n",
      " \u001b[0m\n"
     ]
    }
   ],
   "source": [
    "print('Begin of automatic tests')\n",
    "assert np.isscalar(accuracy_score(y_train, y_pred_train_adapt)), \" must be a scalar value\"\n",
    "assert np.isscalar(accuracy_score(y_test, y_pred_adapt)), \" must be a scalar value\"\n",
    "\n",
    "print('\\033[1mAll public tests passed!\\n \\033[0m')"
   ]
  },
  {
   "cell_type": "markdown",
   "id": "58c649dc",
   "metadata": {
    "deletable": false,
    "editable": false,
    "nbgrader": {
     "cell_type": "markdown",
     "checksum": "1e9f6dda2de23471e64ec0e145c8790e",
     "grade": false,
     "grade_id": "cell-479987378e2c762a",
     "locked": true,
     "schema_version": 3,
     "solution": false,
     "task": false
    }
   },
   "source": [
    "# Task 4 – Iris Classification with Support Vector Machine (10 points)\n",
    "\n",
    "In this task, you will implement an SVM to classify iris flowers.\n",
    "\n",
    "### Assignment\n",
    "\n",
    "* **Part 1:** Define and train an SVM on the Iris dataset (4 points)\n",
    "* **Part 2:** Define and train a second SVM with adapted hyperparameters on the Iris dataset (3 points).\n",
    "* **Part 3:** Determine the “better” SVM between the two variants. (3 points)\n",
    "\n",
    "**Note:** The [documentation here](https://scikit-learn.org/stable/modules/generated/sklearn.svm.SVC.html) might be helpful for this task..."
   ]
  },
  {
   "cell_type": "code",
   "execution_count": 33,
   "id": "6ecfeb7b",
   "metadata": {
    "deletable": false,
    "editable": false,
    "nbgrader": {
     "cell_type": "code",
     "checksum": "104561bc7f7e9464940b56f59ca6f2be",
     "grade": false,
     "grade_id": "cell-c35d727b29a411b9",
     "locked": true,
     "schema_version": 3,
     "solution": false,
     "task": false
    }
   },
   "outputs": [],
   "source": [
    "from sklearn.svm import SVC\n",
    "from sklearn.metrics import accuracy_score"
   ]
  },
  {
   "cell_type": "code",
   "execution_count": 34,
   "id": "f1f20af1",
   "metadata": {
    "deletable": false,
    "editable": false,
    "nbgrader": {
     "cell_type": "code",
     "checksum": "d59ddd935a2fbd6a0a60790b3a37ff00",
     "grade": false,
     "grade_id": "cell-3386b6f6ab002cd9",
     "locked": true,
     "schema_version": 3,
     "solution": false,
     "task": false
    }
   },
   "outputs": [],
   "source": [
    "with np.load('iris.npz') as data:\n",
    "    X_train, y_train, = data['x_train'], data['y_train']"
   ]
  },
  {
   "cell_type": "markdown",
   "id": "95132c6a",
   "metadata": {
    "deletable": false,
    "editable": false,
    "nbgrader": {
     "cell_type": "markdown",
     "checksum": "76157f869404ab1dd517825157032b90",
     "grade": false,
     "grade_id": "cell-017b098f617aca7a",
     "locked": true,
     "schema_version": 3,
     "solution": false,
     "task": false
    }
   },
   "source": [
    "### Part 1: Train SVM (4 points)\n",
    "\n",
    "Train an SVM `svm` on the Iris training data. Use the following hyperparameters:\n",
    "\n",
    "* C = 1\n",
    "* Polynomial kernel with degree 4\n",
    "* $\\gamma=0.1$\n"
   ]
  },
  {
   "cell_type": "code",
   "execution_count": 35,
   "id": "1367cd75",
   "metadata": {
    "nbgrader": {
     "cell_type": "code",
     "checksum": "fec1f8c634d726ed09d6dd9d8f4b5212",
     "grade": false,
     "grade_id": "cell-ddcc63df5ab27f52",
     "locked": false,
     "schema_version": 3,
     "solution": true,
     "task": false
    }
   },
   "outputs": [
    {
     "name": "stdout",
     "output_type": "stream",
     "text": [
      "SVC(C=1, degree=4, gamma=0.1, kernel='linear')\n"
     ]
    },
    {
     "data": {
      "text/plain": [
       "SVC(C=1, degree=4, gamma=0.1, kernel='linear')"
      ]
     },
     "execution_count": 35,
     "metadata": {},
     "output_type": "execute_result"
    }
   ],
   "source": [
    "svm = SVC(kernel='linear', C=1, degree=4, gamma=0.1)\n",
    "print(svm)\n",
    "svm.fit(X_train, y_train)"
   ]
  },
  {
   "cell_type": "code",
   "execution_count": 36,
   "id": "d7933dd6",
   "metadata": {
    "deletable": false,
    "editable": false,
    "nbgrader": {
     "cell_type": "code",
     "checksum": "b3ea7ff805f44333f8aebc744fdfab13",
     "grade": true,
     "grade_id": "cell-99c9211d4a3a3f5e",
     "locked": true,
     "points": 4,
     "schema_version": 3,
     "solution": false,
     "task": false
    }
   },
   "outputs": [
    {
     "name": "stdout",
     "output_type": "stream",
     "text": [
      "Begin of automatic tests\n",
      "\u001b[1mAll public tests passed!\n",
      " \u001b[0m\n"
     ]
    }
   ],
   "source": [
    "print('Begin of automatic tests')\n",
    "assert isinstance(svm, SVC), \"svm is not a SVC instance\"\n",
    "assert accuracy_score(y_train, svm.predict(X_train)) > 0.9, \"Training accuracy is too low\"\n",
    "assert accuracy_score(y_test, svm.predict(X_test)) > 0.9, \"Test accuracy is too low\"\n",
    "print('\\033[1mAll public tests passed!\\n \\033[0m')"
   ]
  },
  {
   "cell_type": "markdown",
   "id": "4088e1ed",
   "metadata": {
    "deletable": false,
    "editable": false,
    "nbgrader": {
     "cell_type": "markdown",
     "checksum": "99b338e78546e6b5f83475cb07458ef0",
     "grade": false,
     "grade_id": "cell-e39025210f9766f6",
     "locked": true,
     "schema_version": 3,
     "solution": false,
     "task": false
    }
   },
   "source": [
    "The training and test accuracy are computed as follows:"
   ]
  },
  {
   "cell_type": "code",
   "execution_count": 37,
   "id": "a50ce341",
   "metadata": {
    "deletable": false,
    "editable": false,
    "nbgrader": {
     "cell_type": "code",
     "checksum": "0324b8c7af2d12b898eefc082468ee27",
     "grade": false,
     "grade_id": "cell-e973d4f75f253c14",
     "locked": true,
     "schema_version": 3,
     "solution": false,
     "task": false
    }
   },
   "outputs": [
    {
     "name": "stdout",
     "output_type": "stream",
     "text": [
      "Train Accuracy: 0.9750\n",
      "Test Accuracy:  1.0000\n"
     ]
    }
   ],
   "source": [
    "train_acc = accuracy_score(y_train, svm.predict(X_train))\n",
    "test_acc = accuracy_score(y_test, svm.predict(X_test))\n",
    "\n",
    "print(f\"Train Accuracy: {train_acc:.4f}\")\n",
    "print(f\"Test Accuracy:  {test_acc:.4f}\")"
   ]
  },
  {
   "cell_type": "markdown",
   "id": "0cee091d",
   "metadata": {
    "deletable": false,
    "editable": false,
    "nbgrader": {
     "cell_type": "markdown",
     "checksum": "ac1657a978b6b635e1dd9645140dbe27",
     "grade": false,
     "grade_id": "cell-8f02b9e1eea4342e",
     "locked": true,
     "schema_version": 3,
     "solution": false,
     "task": false
    }
   },
   "source": [
    "### Part 2: Train second SVM (3 points)\n",
    "\n",
    "Train an SVM `svmmod` on the Iris training data. Use either a different kernel and/or adapt the $\\gamma$ hyperparameter, such that `svmmod` achieves 100% accuracy on the training set.\n",
    "\n",
    "**Note:** The [documentation here](https://scikit-learn.org/stable/modules/generated/sklearn.svm.SVC.html) might be helpful for this task..."
   ]
  },
  {
   "cell_type": "code",
   "execution_count": 38,
   "id": "c6d13c2f",
   "metadata": {
    "deletable": false,
    "editable": false,
    "nbgrader": {
     "cell_type": "code",
     "checksum": "36aef2a3fa9978268df72b5b2508e6ef",
     "grade": false,
     "grade_id": "cell-47d31deb24e7566e",
     "locked": true,
     "schema_version": 3,
     "solution": false,
     "task": false
    }
   },
   "outputs": [],
   "source": [
    "from sklearn.metrics import confusion_matrix\n",
    "M = confusion_matrix(y_train, svm.predict(X_train))"
   ]
  },
  {
   "cell_type": "code",
   "execution_count": 39,
   "id": "362b23e0",
   "metadata": {
    "nbgrader": {
     "cell_type": "code",
     "checksum": "89e9b6f8d1792efc3c93f4a17d82a0ae",
     "grade": false,
     "grade_id": "cell-9bfa347fd6aaf354",
     "locked": false,
     "schema_version": 3,
     "solution": true,
     "task": false
    }
   },
   "outputs": [
    {
     "name": "stdout",
     "output_type": "stream",
     "text": [
      "SVC(C=1, degree=4, gamma=0.1, kernel='linear')\n"
     ]
    },
    {
     "data": {
      "text/plain": [
       "SVC(C=1, degree=4, gamma=10.5)"
      ]
     },
     "execution_count": 39,
     "metadata": {},
     "output_type": "execute_result"
    }
   ],
   "source": [
    "svmmod = SVC(kernel='rbf', C=1, degree=4, gamma=10.5)\n",
    "\n",
    "svmmod.fit(X_train, y_train)"
   ]
  },
  {
   "cell_type": "code",
   "execution_count": 40,
   "id": "norwegian-revision",
   "metadata": {
    "deletable": false,
    "editable": false,
    "nbgrader": {
     "cell_type": "code",
     "checksum": "4836f89f0e9aebe5d8e9eb3ac6f2c61d",
     "grade": false,
     "grade_id": "cell-37090edc24c952e2",
     "locked": true,
     "schema_version": 3,
     "solution": false,
     "task": false
    }
   },
   "outputs": [
    {
     "name": "stdout",
     "output_type": "stream",
     "text": [
      "Train Accuracy of modified SVM: 1.0000\n",
      "Test Accuracy:  0.9333\n"
     ]
    }
   ],
   "source": [
    "train_acc_mod = accuracy_score(y_train, svmmod.predict(X_train))\n",
    "test_acc_mod = accuracy_score(y_test, svmmod.predict(X_test))\n",
    "\n",
    "print(f\"Train Accuracy of modified SVM: {train_acc_mod:.4f}\")\n",
    "print(f\"Test Accuracy:  {test_acc_mod:.4f}\")"
   ]
  },
  {
   "cell_type": "code",
   "execution_count": 41,
   "id": "8fab748f",
   "metadata": {
    "deletable": false,
    "editable": false,
    "nbgrader": {
     "cell_type": "code",
     "checksum": "a72a39042241efd2dd4dd499c76f058c",
     "grade": true,
     "grade_id": "cell-c76ae18189dc51ae",
     "locked": true,
     "points": 3,
     "schema_version": 3,
     "solution": false,
     "task": false
    }
   },
   "outputs": [
    {
     "name": "stdout",
     "output_type": "stream",
     "text": [
      "Begin of automatic tests\n",
      "\u001b[1mAll public tests passed!\n",
      " \u001b[0m\n"
     ]
    }
   ],
   "source": [
    "print('Begin of automatic tests')\n",
    "assert np.isscalar(train_acc_mod), \"Accuracy (acc) is not scalar!\"\n",
    "\n",
    "assert 0 <= train_acc_mod <= 1, \"Accuracy has to be between 0 and 1.\"\n",
    "print('\\033[1mAll public tests passed!\\n \\033[0m')\n"
   ]
  },
  {
   "cell_type": "markdown",
   "id": "92183591",
   "metadata": {
    "deletable": false,
    "editable": false,
    "nbgrader": {
     "cell_type": "markdown",
     "checksum": "fc0767c069c56700a2444801acfd7319",
     "grade": false,
     "grade_id": "cell-d252e4e2feffb872",
     "locked": true,
     "schema_version": 3,
     "solution": false,
     "task": false
    }
   },
   "source": [
    "### Part 3 (3 points):\n",
    "\n",
    "Let the training and test accuracy for the two SVMs be as follows:\n",
    "\n",
    "```\n",
    "SVM1\n",
    "Train Accuracy: 0.9750\n",
    "Test Accuracy:  1.0000\n",
    "\n",
    "SVM2\n",
    "Train Accuracy: 1.0000\n",
    "Test Accuracy:  0.9750\n",
    "```\n",
    "\n",
    "**Which SVM is (slightly) preferable? Justify your answer! (max. 3 sentences)**\n",
    "\n",
    "**Double-click on \"YOUR ANSWER HERE\"**\n",
    "\n",
    "Note: You should have obtained these or similar accuracies of SVM1 and SVM2 above.\n"
   ]
  },
  {
   "cell_type": "markdown",
   "id": "9b7b0b3e",
   "metadata": {
    "nbgrader": {
     "cell_type": "markdown",
     "checksum": "42f31ad66d12580c710871e6f06a987d",
     "grade": true,
     "grade_id": "cell-13f81fe87271b91f",
     "locked": false,
     "points": 3,
     "schema_version": 3,
     "solution": true,
     "task": false
    }
   },
   "source": [
    "## Answer\n",
    "* SVM1 is prefereable as SVM2 has accuracy of 100 percent which indicates over-fitting."
   ]
  },
  {
   "cell_type": "markdown",
   "id": "b0ba9771",
   "metadata": {
    "deletable": false,
    "editable": false,
    "nbgrader": {
     "cell_type": "markdown",
     "checksum": "db7396e51ba9f7f3e39aa0af90c9f41a",
     "grade": false,
     "grade_id": "cell-cc87fed68e408167",
     "locked": true,
     "schema_version": 3,
     "solution": false,
     "task": false
    }
   },
   "source": [
    "# Task 5 – Neural Networks (10 points)\n",
    "\n",
    "### Assignment\n",
    "\n",
    "* **Part 1:** Normal, fully connected (dense) neural network for classifying MNIST handwritten digits. (5 points)\n",
    "* **Part 2:** Convolutional neural network for MNIST classification. (5 points)\n"
   ]
  },
  {
   "cell_type": "code",
   "execution_count": 42,
   "id": "f3d05d38",
   "metadata": {
    "deletable": false,
    "editable": false,
    "nbgrader": {
     "cell_type": "code",
     "checksum": "0ca6faefe2ed9c3104e66bcf11aaaea2",
     "grade": false,
     "grade_id": "cell-63a0dde016a0be21",
     "locked": true,
     "schema_version": 3,
     "solution": false,
     "task": false
    }
   },
   "outputs": [],
   "source": [
    "import keras\n",
    "from tensorflow.keras.models import Sequential\n",
    "from tensorflow.keras.layers import Dense, Input, Conv2D, Flatten"
   ]
  },
  {
   "cell_type": "markdown",
   "id": "7714a9f6",
   "metadata": {
    "deletable": false,
    "editable": false,
    "nbgrader": {
     "cell_type": "markdown",
     "checksum": "2de71f6b75ef4621cda3c70f2fe48ca7",
     "grade": false,
     "grade_id": "cell-600b9e14ec1c8d3d",
     "locked": true,
     "schema_version": 3,
     "solution": false,
     "task": false
    }
   },
   "source": [
    "## Part 1 (5 points):\n",
    "\n",
    "Create a fully connected neural network `mlp` for classifying MNIST digits. Use the given architecture and implement the network using `keras`.\n",
    "\n",
    "\n",
    "The following sizes are given:\n",
    "\n",
    "* 1 Input layer, appropriate for MNIST\n",
    "* 1 dense layers with 256 neurons and activation function `relu`.\n",
    "* 1 dense layer with 128 neurons and activation funciton `relu`.\n",
    "* 1 dense layer with 64 neurons and activation funciton `relu`.\n",
    "* The output layer (with the right amount of neurons \\[how many classes do we have?\\]), which uses `softmax` as the activation function.\n"
   ]
  },
  {
   "cell_type": "code",
   "execution_count": 43,
   "id": "91c7aac1",
   "metadata": {
    "deletable": false,
    "editable": false,
    "nbgrader": {
     "cell_type": "code",
     "checksum": "e7c68d6d42c081ce45cbf913082d91a1",
     "grade": false,
     "grade_id": "cell-4321ade0302415a2",
     "locked": true,
     "schema_version": 3,
     "solution": false,
     "task": false
    }
   },
   "outputs": [],
   "source": [
    "# loading the data\n",
    "\n",
    "with np.load(\"mnist.npz\") as f:\n",
    "    X_train, y_train = f[\"x_train\"], f[\"y_train\"]\n",
    "    X_test, y_test = f[\"x_test\"], f[\"y_test\"]\n",
    "    \n"
   ]
  },
  {
   "cell_type": "markdown",
   "id": "shaped-virgin",
   "metadata": {
    "deletable": false,
    "editable": false,
    "nbgrader": {
     "cell_type": "markdown",
     "checksum": "902892723340440ea3cf93cdbc8c37e3",
     "grade": false,
     "grade_id": "cell-6f4db68da9fd7288",
     "locked": true,
     "schema_version": 3,
     "solution": false,
     "task": false
    }
   },
   "source": [
    "Just a reminder, how the MNIST dataset looks like:"
   ]
  },
  {
   "cell_type": "code",
   "execution_count": 44,
   "id": "light-container",
   "metadata": {
    "deletable": false,
    "editable": false,
    "nbgrader": {
     "cell_type": "code",
     "checksum": "49d1c894084f140af98042642fc7d69f",
     "grade": false,
     "grade_id": "cell-e1455ada07cc50fd",
     "locked": true,
     "schema_version": 3,
     "solution": false,
     "task": false
    }
   },
   "outputs": [
    {
     "data": {
      "image/png": "[encoded data removed]",
      "text/plain": [
       "<Figure size 432x288 with 10 Axes>"
      ]
     },
     "metadata": {
      "needs_background": "light"
     },
     "output_type": "display_data"
    }
   ],
   "source": [
    "labels = ['Zero', 'One', 'Two', 'Three', 'Four', 'Five', 'Six', 'Seven', 'Eight', 'Nine']\n",
    "\n",
    "_, positions = np.unique(y_train, return_index=True)\n",
    "images = X_train[positions]\n",
    "\n",
    "fig, axes = plt.subplots(2,5) # Prepares a 2x5 empty plot\n",
    "for ax, image, label in zip(axes.flatten(), images, labels):\n",
    "    ax.imshow(image, cmap=\"binary\")\n",
    "    ax.set_title(label) \n",
    "    ax.axis('off')\n",
    "plt.tight_layout(pad=1)"
   ]
  },
  {
   "cell_type": "code",
   "execution_count": 45,
   "id": "united-clone",
   "metadata": {
    "deletable": false,
    "editable": false,
    "nbgrader": {
     "cell_type": "code",
     "checksum": "ebfca9cdc07ed5c81bfd3a766bc47e82",
     "grade": false,
     "grade_id": "cell-aa31014d4461644a",
     "locked": true,
     "schema_version": 3,
     "solution": false,
     "task": false
    }
   },
   "outputs": [
    {
     "name": "stdout",
     "output_type": "stream",
     "text": [
      "(60000, 784)\n"
     ]
    }
   ],
   "source": [
    "# data preparation\n",
    "X_train = X_train / 255\n",
    "X_test  = X_test / 255\n",
    "\n",
    "y_train = keras.utils.to_categorical(y_train)\n",
    "y_test = keras.utils.to_categorical(y_test)\n",
    "\n",
    "X_train_mlp = X_train.reshape(len(X_train), -1) / 255\n",
    "X_test_mlp  = X_test.reshape(len(X_test), -1) / 255\n",
    "\n",
    "print(X_train_mlp.shape)\n",
    "if X_train.ndim == 3:\n",
    "    X_train = X_train[:,:,:,np.newaxis]\n",
    "if X_test.ndim == 3:\n",
    "    X_test = X_test[:,:,:,np.newaxis]"
   ]
  },
  {
   "cell_type": "code",
   "execution_count": null,
   "id": "2a5c0da0",
   "metadata": {
    "nbgrader": {
     "cell_type": "code",
     "checksum": "cdd22ce1a489c5d90faccb3c6a2efce6",
     "grade": false,
     "grade_id": "cell-4ba1b748b42e77bf",
     "locked": false,
     "schema_version": 3,
     "solution": true,
     "task": false
    }
   },
   "outputs": [],
   "source": [
    "mlp = Sequential([\n",
    "    # DEINE ANTWORT HIER\n",
    "     Input(shape=(28*28,)),\n",
    "    Dense(256, activation='relu'),\n",
    "    Dense(128, activation='relu'),\n",
    "    Dense(64, activation='relu'),\n",
    "    Dense(10, activation='softmax')\n",
    "])"
   ]
  },
  {
   "cell_type": "code",
   "execution_count": null,
   "id": "5b935075",
   "metadata": {
    "deletable": false,
    "editable": false,
    "nbgrader": {
     "cell_type": "code",
     "checksum": "da41ecb76bfbbdf3ac2ce234b49ae6b9",
     "grade": true,
     "grade_id": "cell-b72593d4462b998e",
     "locked": true,
     "points": 5,
     "schema_version": 3,
     "solution": false,
     "task": false
    }
   },
   "outputs": [],
   "source": [
    "print('Begin of automatic tests')\n",
    "assert isinstance(mlp, Sequential), \"mlp is not a Sequential instance\"\n",
    "#assert accuracy_score(y_train, svm.predict(X_train)) > 0.9, \"Training accuracy is too low\"\n",
    "#assert accuracy_score(y_test, svm.predict(X_test)) > 0.9, \"Test accuracy is too low\"\n",
    "print('\\033[1mAll public tests passed!\\n \\033[0m')"
   ]
  },
  {
   "cell_type": "markdown",
   "id": "835947ca",
   "metadata": {
    "deletable": false,
    "editable": false,
    "nbgrader": {
     "cell_type": "markdown",
     "checksum": "23703e34fb734ecee27fe3cb1b3b2f3e",
     "grade": false,
     "grade_id": "cell-0c7aba1a3b2b0f2d",
     "locked": true,
     "schema_version": 3,
     "solution": false,
     "task": false
    }
   },
   "source": [
    "In the following cell, the MLP is trained:"
   ]
  },
  {
   "cell_type": "code",
   "execution_count": null,
   "id": "b01f4804",
   "metadata": {
    "deletable": false,
    "editable": false,
    "nbgrader": {
     "cell_type": "code",
     "checksum": "4a8206841bbae6f4fe5b676d318cd917",
     "grade": false,
     "grade_id": "cell-dc6eaabd5f3a13fe",
     "locked": true,
     "schema_version": 3,
     "solution": false,
     "task": false
    }
   },
   "outputs": [],
   "source": [
    "mlp.compile(loss='categorical_crossentropy',\n",
    "    optimizer='adam',\n",
    "    metrics=['accuracy'])\n",
    "\n",
    "mlp.fit(X_train_mlp, y_train, batch_size=256, epochs=10)"
   ]
  },
  {
   "cell_type": "markdown",
   "id": "47ca250b",
   "metadata": {
    "deletable": false,
    "editable": false,
    "nbgrader": {
     "cell_type": "markdown",
     "checksum": "998f2d2bbb736a7c29152961ed5b7935",
     "grade": false,
     "grade_id": "cell-41ba83d053de1a8f",
     "locked": true,
     "schema_version": 3,
     "solution": false,
     "task": false
    }
   },
   "source": [
    "Now we calculate the test accuracy and display it:"
   ]
  },
  {
   "cell_type": "code",
   "execution_count": null,
   "id": "f78e097a",
   "metadata": {
    "deletable": false,
    "editable": false,
    "nbgrader": {
     "cell_type": "code",
     "checksum": "8b7292a800481a8ba7c8f35c20785983",
     "grade": false,
     "grade_id": "cell-c7aa4bd5c07acb8f",
     "locked": true,
     "schema_version": 3,
     "solution": false,
     "task": false
    }
   },
   "outputs": [],
   "source": [
    "test_loss, test_acc = mlp.evaluate(X_test_mlp, y_test)\n",
    "print(\"\\nTest Accuracy (ccn):\", test_acc)"
   ]
  },
  {
   "cell_type": "markdown",
   "id": "e42d22b5",
   "metadata": {
    "deletable": false,
    "editable": false,
    "nbgrader": {
     "cell_type": "markdown",
     "checksum": "68c8714af68db8ff8b84d9fbc1e3af03",
     "grade": false,
     "grade_id": "cell-65708104a537966c",
     "locked": true,
     "schema_version": 3,
     "solution": false,
     "task": false
    }
   },
   "source": [
    "## Part 2 (5 points):\n",
    "\n",
    "Define a convolutional neural network `cnn` with one 2D convolution and one hidden layer for classifying MNIST images.\n",
    "\n",
    "Implement the following architecture:\n",
    "\n",
    "* 1 convolutional layer with 8 kernels.\n",
    "* Flatten between the convolution and the hidden layer.\n",
    "* Hidden layer with 256 neurons.\n",
    "* The convolution and hidden layer use ReLU as the activation function.\n",
    "* The output layer uses softmax as the activation function.\n",
    "\n",
    "Determine the following:\n",
    "\n",
    "* Choose sensible values for `kernel_size` and `strides`.\n",
    " * **Note:** [This documentation](https://keras.io/api/layers/convolution_layers/convolution2d/) should help you.\n"
   ]
  },
  {
   "cell_type": "code",
   "execution_count": null,
   "id": "f49548a6",
   "metadata": {
    "nbgrader": {
     "cell_type": "code",
     "checksum": "80160fb9977bedb14e0b0da57a33e95c",
     "grade": false,
     "grade_id": "cell-25814245f68b4840",
     "locked": false,
     "schema_version": 3,
     "solution": true,
     "task": false
    }
   },
   "outputs": [],
   "source": [
    "cnn = Sequential()\n",
    "cnn.add(Conv2D(8, kernel_size=(3,3), strides=(1,1),\n",
    "               activation=\"relu\", input_shape=(28,28,1)))\n",
    "cnn.add(Flatten())\n",
    "cnn.add(Dense(256, activation=\"relu\"))\n",
    "cnn.add(Dense(10, activation=\"softmax\"))\n",
    "\n"
   ]
  },
  {
   "cell_type": "code",
   "execution_count": 51,
   "id": "d0331fe6",
   "metadata": {
    "deletable": false,
    "editable": false,
    "nbgrader": {
     "cell_type": "code",
     "checksum": "f6c34388c1985e3da359d90184f73a19",
     "grade": true,
     "grade_id": "cell-339e1fdb9fa634a7",
     "locked": true,
     "points": 5,
     "schema_version": 3,
     "solution": false,
     "task": false
    }
   },
   "outputs": [
    {
     "name": "stdout",
     "output_type": "stream",
     "text": [
      "\u001b[1mAll public tests passed!\n",
      "\u001b[0m\n"
     ]
    }
   ],
   "source": [
    "assert len(cnn.weights) == 6, \"Unexpected number of weight tensors\"\n",
    "print('\\033[1mAll public tests passed!\\n\\033[0m')\n"
   ]
  },
  {
   "cell_type": "markdown",
   "id": "wrong-election",
   "metadata": {
    "deletable": false,
    "editable": false,
    "nbgrader": {
     "cell_type": "markdown",
     "checksum": "e014304f76bd2aee0cbfdbf34e4438b5",
     "grade": false,
     "grade_id": "cell-f2b6efcd5bfcf935",
     "locked": true,
     "schema_version": 3,
     "solution": false,
     "task": false
    }
   },
   "source": [
    "In the following cell, the CNN is trained:"
   ]
  },
  {
   "cell_type": "code",
   "execution_count": 52,
   "id": "bda60983",
   "metadata": {
    "deletable": false,
    "editable": false,
    "nbgrader": {
     "cell_type": "code",
     "checksum": "d426ee9c228f107183bd39a03cf5063d",
     "grade": false,
     "grade_id": "cell-3685fc7a4c5ee9b6",
     "locked": true,
     "schema_version": 3,
     "solution": false,
     "task": false
    }
   },
   "outputs": [
    {
     "name": "stdout",
     "output_type": "stream",
     "text": [
      "Epoch 1/10\n",
      "235/235 [==============================] - 2s 9ms/step - loss: 0.0068 - accuracy: 0.9980\n",
      "Epoch 2/10\n",
      "235/235 [==============================] - 2s 9ms/step - loss: 0.0038 - accuracy: 0.9992\n",
      "Epoch 3/10\n",
      "235/235 [==============================] - 2s 9ms/step - loss: 0.0037 - accuracy: 0.9991\n",
      "Epoch 4/10\n",
      "235/235 [==============================] - 2s 9ms/step - loss: 0.0036 - accuracy: 0.9989\n",
      "Epoch 5/10\n",
      "235/235 [==============================] - 2s 9ms/step - loss: 0.0020 - accuracy: 0.9997\n",
      "Epoch 6/10\n",
      "235/235 [==============================] - 2s 9ms/step - loss: 0.0015 - accuracy: 0.9996\n",
      "Epoch 7/10\n",
      "235/235 [==============================] - 2s 9ms/step - loss: 4.5283e-04 - accuracy: 0.9999\n",
      "Epoch 8/10\n",
      "235/235 [==============================] - 2s 9ms/step - loss: 1.4952e-04 - accuracy: 1.0000\n",
      "Epoch 9/10\n",
      "235/235 [==============================] - 2s 9ms/step - loss: 1.2412e-04 - accuracy: 1.0000\n",
      "Epoch 10/10\n",
      "235/235 [==============================] - 2s 9ms/step - loss: 7.0583e-05 - accuracy: 1.0000\n"
     ]
    },
    {
     "data": {
      "text/plain": [
       "<tensorflow.python.keras.callbacks.History at 0x7f2b9c38b250>"
      ]
     },
     "execution_count": 52,
     "metadata": {},
     "output_type": "execute_result"
    }
   ],
   "source": [
    "cnn.compile(optimizer='adam',\n",
    "            loss='categorical_crossentropy',\n",
    "            metrics=['accuracy'])\n",
    "\n",
    "cnn.fit(X_train, y_train, batch_size=256, epochs=10)"
   ]
  },
  {
   "cell_type": "markdown",
   "id": "foster-twelve",
   "metadata": {
    "deletable": false,
    "editable": false,
    "nbgrader": {
     "cell_type": "markdown",
     "checksum": "6a5e7f96f51481ef79af75707ee97f4e",
     "grade": false,
     "grade_id": "cell-1c6dfc568800fb42",
     "locked": true,
     "schema_version": 3,
     "solution": false,
     "task": false
    }
   },
   "source": [
    "Now we calculate the test accuracy and display it:"
   ]
  },
  {
   "cell_type": "code",
   "execution_count": 61,
   "id": "collectible-fossil",
   "metadata": {
    "deletable": false,
    "editable": false,
    "nbgrader": {
     "cell_type": "code",
     "checksum": "0b69d85becbc9eecc9d9ca25ff5273f7",
     "grade": false,
     "grade_id": "cell-0b92adff05de24a8",
     "locked": true,
     "schema_version": 3,
     "solution": false,
     "task": false
    }
   },
   "outputs": [
    {
     "name": "stdout",
     "output_type": "stream",
     "text": [
      "313/313 [==============================] - 1s 2ms/step - loss: 0.0526 - accuracy: 0.9851\n",
      "\n",
      "Test Accuracy (ccn): 0.9850999712944031\n"
     ]
    }
   ],
   "source": [
    "test_loss, test_acc = cnn.evaluate(X_test, y_test)\n",
    "print(\"\\nTest Accuracy (ccn):\", test_acc)"
   ]
  },
  {
   "cell_type": "code",
   "execution_count": null,
   "id": "excessive-tobacco",
   "metadata": {},
   "outputs": [],
   "source": []
  }
 ],
 "metadata": {
  "kernelspec": {
   "display_name": "Python 3",
   "language": "python",
   "name": "python3"
  },
  "language_info": {
   "codemirror_mode": {
    "name": "ipython",
    "version": 3
   },
   "file_extension": ".py",
   "mimetype": "text/x-python",
   "name": "python",
   "nbconvert_exporter": "python",
   "pygments_lexer": "ipython3",
   "version": "3.8.8"
  }
 },
 "nbformat": 4,
 "nbformat_minor": 5
}
